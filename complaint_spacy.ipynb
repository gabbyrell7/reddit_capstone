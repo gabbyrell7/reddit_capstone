{
 "cells": [
  {
   "cell_type": "code",
   "execution_count": 1,
   "metadata": {},
   "outputs": [],
   "source": [
    "import praw\n",
    "import pandas as pd\n",
    "import spacy\n",
    "from vaderSentiment.vaderSentiment import SentimentIntensityAnalyzer\n",
    "import seaborn as sns\n",
    "import matplotlib.pyplot as plt\n",
    "import datetime\n",
    "import networkx as nx\n",
    "from collections import Counter\n",
    "import creds\n",
    "import time\n"
   ]
  },
  {
   "cell_type": "code",
   "execution_count": 2,
   "metadata": {},
   "outputs": [
    {
     "name": "stdout",
     "output_type": "stream",
     "text": [
      "Collecting en-core-web-sm==3.8.0\n",
      "  Downloading https://github.com/explosion/spacy-models/releases/download/en_core_web_sm-3.8.0/en_core_web_sm-3.8.0-py3-none-any.whl (12.8 MB)\n",
      "     ---------------------------------------- 0.0/12.8 MB ? eta -:--:--\n",
      "     --------------------------------------  12.6/12.8 MB 87.4 MB/s eta 0:00:01\n",
      "     --------------------------------------- 12.8/12.8 MB 66.7 MB/s eta 0:00:00\n",
      "\u001b[38;5;2m✔ Download and installation successful\u001b[0m\n",
      "You can now load the package via spacy.load('en_core_web_sm')\n"
     ]
    },
    {
     "name": "stderr",
     "output_type": "stream",
     "text": [
      "WARNING: Ignoring invalid distribution ~ymongo (C:\\Users\\gabri\\AppData\\Local\\Packages\\PythonSoftwareFoundation.Python.3.11_qbz5n2kfra8p0\\LocalCache\\local-packages\\Python311\\site-packages)\n",
      "WARNING: Ignoring invalid distribution ~ymongo (C:\\Users\\gabri\\AppData\\Local\\Packages\\PythonSoftwareFoundation.Python.3.11_qbz5n2kfra8p0\\LocalCache\\local-packages\\Python311\\site-packages)\n",
      "WARNING: Ignoring invalid distribution ~ymongo (C:\\Users\\gabri\\AppData\\Local\\Packages\\PythonSoftwareFoundation.Python.3.11_qbz5n2kfra8p0\\LocalCache\\local-packages\\Python311\\site-packages)\n",
      "WARNING: Ignoring invalid distribution ~ymongo (C:\\Users\\gabri\\AppData\\Local\\Packages\\PythonSoftwareFoundation.Python.3.11_qbz5n2kfra8p0\\LocalCache\\local-packages\\Python311\\site-packages)\n",
      "\n",
      "[notice] A new release of pip is available: 24.2 -> 25.0.1\n",
      "[notice] To update, run: C:\\Users\\gabri\\AppData\\Local\\Microsoft\\WindowsApps\\PythonSoftwareFoundation.Python.3.11_qbz5n2kfra8p0\\python.exe -m pip install --upgrade pip\n"
     ]
    }
   ],
   "source": [
    "!python -m spacy download en_core_web_sm"
   ]
  },
  {
   "cell_type": "code",
   "execution_count": 3,
   "metadata": {},
   "outputs": [],
   "source": [
    "\"\"\"Main function to orchestrate the process.\"\"\"\n",
    "reddit = praw.Reddit(\n",
    "    client_id=creds.CLIENT_ID,\n",
    "    client_secret=creds.CLIENT_SECRET,\n",
    "    user_agent=creds.USER_AGENTS\n",
    ")"
   ]
  },
  {
   "cell_type": "code",
   "execution_count": 11,
   "metadata": {},
   "outputs": [
    {
     "name": "stdout",
     "output_type": "stream",
     "text": [
      "Fetching posts before: 2025-03-30 17:30:54.264063+00:00\n",
      "Fetching posts before: 2025-03-30 17:20:26+00:00\n",
      "Fetching posts before: 2025-03-30 17:20:26+00:00\n",
      "Fetching posts before: 2025-03-30 17:20:26+00:00\n",
      "Fetching posts before: 2025-03-30 17:20:26+00:00\n",
      "Fetching posts before: 2025-03-30 17:20:26+00:00\n",
      "Fetching posts before: 2025-03-30 17:20:26+00:00\n",
      "Fetching posts before: 2025-03-30 17:20:26+00:00\n",
      "Fetching posts before: 2025-03-30 17:20:26+00:00\n",
      "Fetching posts before: 2025-03-30 17:20:26+00:00\n",
      "Fetching posts before: 2025-03-30 17:20:26+00:00\n",
      "Fetching posts before: 2025-03-30 17:20:26+00:00\n",
      "Fetching posts before: 2025-03-30 17:20:26+00:00\n",
      "Fetching posts before: 2025-03-30 17:20:26+00:00\n",
      "Fetching posts before: 2025-03-30 17:20:26+00:00\n",
      "Fetching posts before: 2025-03-30 17:20:26+00:00\n",
      "Fetching posts before: 2025-03-30 17:20:26+00:00\n",
      "Fetching posts before: 2025-03-30 17:20:26+00:00\n",
      "Fetching posts before: 2025-03-30 17:20:26+00:00\n",
      "Fetching posts before: 2025-03-30 17:20:26+00:00\n",
      "  subreddit                                              title  \\\n",
      "0       all         Review #2: Battle of the Wheated - Blind 2   \n",
      "1       all   My dad went over my private dark notes yesterday   \n",
      "2       all                 need help making bad maps? go here   \n",
      "3       all  Help me to gather evidences for HP's bad hinge...   \n",
      "4       all                 Least scary bridge going into NKY?   \n",
      "\n",
      "                                                text   created_utc  \\\n",
      "0  Battle of the Wheateds\\n\\nThis is the first bl...  1.743356e+09   \n",
      "1  Im 19. someone robbed my phone yesterday\\n\\ni ...  1.743356e+09   \n",
      "2  If you need help making bad maps you can go he...  1.743356e+09   \n",
      "3  post me all your service centers slips , bills...  1.743356e+09   \n",
      "4  I need to drive into NKY tomorrow from blue as...  1.743356e+09   \n",
      "\n",
      "         created_date  \n",
      "0 2025-03-30 17:26:13  \n",
      "1 2025-03-30 17:26:03  \n",
      "2 2025-03-30 17:25:33  \n",
      "3 2025-03-30 17:25:33  \n",
      "4 2025-03-30 17:25:21  \n",
      "     subreddit                                              title  \\\n",
      "1995       all  turn the Page my recovery from abuse and inher...   \n",
      "1996       all                               Tell me if I’m wrong   \n",
      "1997       all                     My mother refused to apologise   \n",
      "1998       all  A bit of depression on day 6. When does it get...   \n",
      "1999       all                              Active bass power mod   \n",
      "\n",
      "                                                   text   created_utc  \\\n",
      "1995  A lot happened before my father passed my sist...  1.743355e+09   \n",
      "1996  So what happened was my mum, out of nowhere, d...  1.743355e+09   \n",
      "1997  I asked my mum for an apology today, finally f...  1.743355e+09   \n",
      "1998  18f . I was a smoker for 6 months , would use ...  1.743355e+09   \n",
      "1999  I have an 18v active bass that runs off two 2 ...  1.743355e+09   \n",
      "\n",
      "            created_date  \n",
      "1995 2025-03-30 17:20:30  \n",
      "1996 2025-03-30 17:20:28  \n",
      "1997 2025-03-30 17:20:26  \n",
      "1998 2025-03-30 17:20:26  \n",
      "1999 2025-03-30 17:20:26  \n",
      "Total posts fetched: 2000\n"
     ]
    }
   ],
   "source": [
    "def fetch_reddit_posts(keywords, subreddits, days=100, limit=2000):\n",
    "    end_time = datetime.datetime.now(datetime.UTC)\n",
    "    start_time = end_time - datetime.timedelta(days=days)\n",
    "\n",
    "    posts = []\n",
    "    for subreddit in subreddits:\n",
    "        current_end_time = end_time.timestamp()\n",
    "        while current_end_time > start_time.timestamp() and len(posts) < limit:\n",
    "            print(f\"Fetching posts before: {datetime.datetime.fromtimestamp(current_end_time, datetime.UTC)}\")\n",
    "            for submission in reddit.subreddit(subreddit).search(\n",
    "                \" OR \".join(keywords),\n",
    "                sort=\"new\",\n",
    "                limit=min(100, limit - len(posts)),  # Fetch up to 100 at a time, respecting the overall limit\n",
    "                params={'before': int(current_end_time)}  # Pass 'before' in the params dictionary\n",
    "            ):\n",
    "                if submission.created_utc < start_time.timestamp():\n",
    "                    break  # Stop if we've gone past the start time\n",
    "\n",
    "                posts.append({\n",
    "                    \"subreddit\": subreddit,\n",
    "                    \"title\": submission.title,\n",
    "                    \"text\": submission.selftext,\n",
    "                    \"created_utc\": submission.created_utc\n",
    "                })\n",
    "            if posts:\n",
    "                current_end_time = posts[-1]['created_utc']\n",
    "            else:\n",
    "                break # No more posts found for this time range\n",
    "\n",
    "    return pd.DataFrame(posts)\n",
    "\n",
    "keywords = [\"lazy\", \"lousy\", \"dirty\", \"bad\", \"terrible\", \"horrible\", \"unreliable\"]\n",
    "subreddits = [\"all\"]\n",
    "#subreddits = [\"airlines\", \"Comcast\", \"healthcare\", \"railways\"]\n",
    "df = fetch_reddit_posts(keywords, subreddits, days=100)\n",
    "df[\"created_date\"] = pd.to_datetime(df[\"created_utc\"], unit=\"s\")\n",
    "print(df.head())\n",
    "print(df.tail())\n",
    "print(f\"Total posts fetched: {len(df)}\")"
   ]
  },
  {
   "cell_type": "code",
   "execution_count": 12,
   "metadata": {},
   "outputs": [
    {
     "name": "stdout",
     "output_type": "stream",
     "text": [
      "  subreddit                                             title  \\\n",
      "0       all        Review #2: Battle of the Wheated - Blind 2   \n",
      "1       all        Review #2: Battle of the Wheated - Blind 2   \n",
      "2       all        Review #2: Battle of the Wheated - Blind 2   \n",
      "3       all        Review #2: Battle of the Wheated - Blind 2   \n",
      "4       all  My dad went over my private dark notes yesterday   \n",
      "\n",
      "                                                text   created_utc  \\\n",
      "0  Battle of the Wheateds\\n\\nThis is the first bl...  1.743356e+09   \n",
      "1  Battle of the Wheateds\\n\\nThis is the first bl...  1.743356e+09   \n",
      "2  Battle of the Wheateds\\n\\nThis is the first bl...  1.743356e+09   \n",
      "3  Battle of the Wheateds\\n\\nThis is the first bl...  1.743356e+09   \n",
      "4  Im 19. someone robbed my phone yesterday\\n\\ni ...  1.743356e+09   \n",
      "\n",
      "         created_date       entities  \n",
      "0 2025-03-30 17:26:13        Caramel  \n",
      "1 2025-03-30 17:26:13  the Weller FP  \n",
      "2 2025-03-30 17:26:13         Weller  \n",
      "3 2025-03-30 17:26:13        Antique  \n",
      "4 2025-03-30 17:26:03            gpt  \n"
     ]
    }
   ],
   "source": [
    "nlp = spacy.load(\"en_core_web_sm\")\n",
    "\n",
    "def extract_entities(text):\n",
    "    doc = nlp(text)\n",
    "    entities = [ent.text for ent in doc.ents if ent.label_ in [\"ORG\", \"GPE\", \"PRODUCT\"]]\n",
    "    return entities if entities else None\n",
    "\n",
    "df[\"entities\"] = df[\"text\"].apply(lambda x: extract_entities(x) if isinstance(x, str) else [])\n",
    "df = df.explode(\"entities\").dropna().reset_index(drop=True)  # Explode list of entities\n",
    "print(df.head())\n"
   ]
  },
  {
   "cell_type": "code",
   "execution_count": 13,
   "metadata": {},
   "outputs": [
    {
     "name": "stdout",
     "output_type": "stream",
     "text": [
      "  subreddit                                             title  \\\n",
      "0       all        Review #2: Battle of the Wheated - Blind 2   \n",
      "1       all        Review #2: Battle of the Wheated - Blind 2   \n",
      "2       all        Review #2: Battle of the Wheated - Blind 2   \n",
      "3       all        Review #2: Battle of the Wheated - Blind 2   \n",
      "4       all  My dad went over my private dark notes yesterday   \n",
      "\n",
      "                                                text   created_utc  \\\n",
      "0  Battle of the Wheateds\\n\\nThis is the first bl...  1.743356e+09   \n",
      "1  Battle of the Wheateds\\n\\nThis is the first bl...  1.743356e+09   \n",
      "2  Battle of the Wheateds\\n\\nThis is the first bl...  1.743356e+09   \n",
      "3  Battle of the Wheateds\\n\\nThis is the first bl...  1.743356e+09   \n",
      "4  Im 19. someone robbed my phone yesterday\\n\\ni ...  1.743356e+09   \n",
      "\n",
      "         created_date       entities  sentiment  \n",
      "0 2025-03-30 17:26:13        Caramel     0.9659  \n",
      "1 2025-03-30 17:26:13  the Weller FP     0.9659  \n",
      "2 2025-03-30 17:26:13         Weller     0.9659  \n",
      "3 2025-03-30 17:26:13        Antique     0.9659  \n",
      "4 2025-03-30 17:26:03            gpt    -0.9977  \n"
     ]
    }
   ],
   "source": [
    "analyzer = SentimentIntensityAnalyzer()\n",
    "\n",
    "def get_sentiment(text):\n",
    "    score = analyzer.polarity_scores(text)\n",
    "    return score[\"compound\"]\n",
    "\n",
    "df[\"sentiment\"] = df[\"text\"].apply(lambda x: get_sentiment(x) if isinstance(x, str) else 0)\n",
    "print(df.head())\n"
   ]
  },
  {
   "cell_type": "code",
   "execution_count": 26,
   "metadata": {},
   "outputs": [
    {
     "name": "stdout",
     "output_type": "stream",
     "text": [
      "Top 5 Entities: ['RBC', 'Gabby', 'CBC', 'Man City', 'LOT OF US']\n",
      "  subreddit                                              title  \\\n",
      "0       all  Post-Match Thread: Bournemouth 1-2 Manchester ...   \n",
      "1       all  Post-Match Thread: Bournemouth 1-2 Manchester ...   \n",
      "2       all  Post-Match Thread: Bournemouth 1-2 Manchester ...   \n",
      "3       all  Post-Match Thread: Bournemouth 1-2 Manchester ...   \n",
      "4       all  Post-Match Thread: Bournemouth 1-2 Manchester ...   \n",
      "\n",
      "                                                text   created_utc  \\\n",
      "0  # [](#sprite1-p218)**Bournemouth** [1 - 2](#ba...  1.743356e+09   \n",
      "1  # [](#sprite1-p218)**Bournemouth** [1 - 2](#ba...  1.743356e+09   \n",
      "2  # [](#sprite1-p218)**Bournemouth** [1 - 2](#ba...  1.743356e+09   \n",
      "3  # [](#sprite1-p218)**Bournemouth** [1 - 2](#ba...  1.743356e+09   \n",
      "4  # [](#sprite1-p218)**Bournemouth** [1 - 2](#ba...  1.743356e+09   \n",
      "\n",
      "         created_date  entities  sentiment  \n",
      "0 2025-03-30 17:25:15  Man City     0.9884  \n",
      "1 2025-03-30 17:25:15  Man City     0.9884  \n",
      "2 2025-03-30 17:25:15  Man City     0.9884  \n",
      "3 2025-03-30 17:25:15  Man City     0.9884  \n",
      "4 2025-03-30 17:25:15  Man City     0.9884  \n"
     ]
    }
   ],
   "source": [
    "def analyze_top_entities(df):\n",
    "    \"\"\"\n",
    "    Counts the frequency of entities in a DataFrame column and filters the DataFrame\n",
    "    to include only rows containing the top 5 most frequent entities.\n",
    "\n",
    "    Args:\n",
    "        df (pd.DataFrame): DataFrame containing a column named 'entities'\n",
    "                           (which should be a list of entities per row).\n",
    "\n",
    "    Returns:\n",
    "        tuple: A tuple containing:\n",
    "            - list: A list of the top 5 most frequent entities.\n",
    "            - pd.DataFrame: A DataFrame filtered to include only rows where\n",
    "                            the 'entities' column contains one of the top 5 entities.\n",
    "    \"\"\"\n",
    "    # Explode the 'entities' column to count individual entity occurrences\n",
    "    df_exploded = df.explode(\"entities\").dropna().reset_index(drop=True)\n",
    "\n",
    "    # Count the frequency of each entity\n",
    "    top_entities = df_exploded[\"entities\"].value_counts().head(5).index.tolist()\n",
    "\n",
    "    # Filter dataset to only include these top entities\n",
    "    df_filtered = df_exploded[df_exploded[\"entities\"].isin(top_entities)].reset_index(drop=True)\n",
    "\n",
    "    print(\"Top 5 Entities:\", top_entities)\n",
    "    print(df_filtered.head())\n",
    "\n",
    "    return top_entities, df_filtered\n",
    "\n",
    "top_entities_result, df_filtered_result = analyze_top_entities(df.copy())"
   ]
  },
  {
   "cell_type": "code",
   "execution_count": 27,
   "metadata": {},
   "outputs": [
    {
     "data": {
      "image/png": "[encoded data removed]",
      "text/plain": [
       "<Figure size 1200x600 with 1 Axes>"
      ]
     },
     "metadata": {},
     "output_type": "display_data"
    }
   ],
   "source": [
    "import seaborn as sns\n",
    "import matplotlib.pyplot as plt\n",
    "import pandas as pd\n",
    "\n",
    "def plot_sentiment_trends(df, top_n=5):\n",
    "    \"\"\"\n",
    "    Aggregates sentiment scores by entity and date and plots sentiment trends\n",
    "    for the top N entities over time.\n",
    "\n",
    "    Args:\n",
    "        df (pd.DataFrame): DataFrame containing 'entities', 'created_date', and 'sentiment' columns.\n",
    "        top_n (int): The number of top entities to plot (default is 5).\n",
    "    \"\"\"\n",
    "    # Explode the 'entities' column if it's still a list\n",
    "    if isinstance(df['entities'].iloc[0], list):\n",
    "        df_exploded = df.explode(\"entities\").dropna().reset_index(drop=True)\n",
    "    else:\n",
    "        df_exploded = df.copy()\n",
    "\n",
    "    # Get the top N entities\n",
    "    top_entities = df_exploded[\"entities\"].value_counts().head(top_n).index.tolist()\n",
    "\n",
    "    # Filter the DataFrame to include only the top N entities\n",
    "    df_filtered = df_exploded[df_exploded[\"entities\"].isin(top_entities)].reset_index(drop=True)\n",
    "\n",
    "    # Aggregate sentiment scores by entity and date\n",
    "    df_grouped = df_filtered.groupby([\"entities\", \"created_date\"]).agg({\"sentiment\": \"mean\"}).reset_index()\n",
    "\n",
    "    # Plot sentiment trends\n",
    "    plt.figure(figsize=(12, 6))\n",
    "    sns.lineplot(data=df_grouped, x=\"created_date\", y=\"sentiment\", hue=\"entities\", marker=\"o\")\n",
    "    plt.axhline(0, color=\"black\", linestyle=\"--\")\n",
    "    plt.title(f\"Sentiment Trends for Top {top_n} Entities Over Time\")\n",
    "    plt.xlabel(\"Date\")\n",
    "    plt.ylabel(\"Average Sentiment Score\")\n",
    "    plt.legend(title=\"Entities\")\n",
    "    plt.xticks(rotation=45, ha='right')  # Rotate and align x-axis labels\n",
    "    plt.tight_layout()  # Adjust layout to prevent labels from overlapping\n",
    "    plt.show()\n",
    "\n",
    "plot_sentiment_trends(df_filtered_result, top_n=5)\n"
   ]
  }
 ],
 "metadata": {
  "kernelspec": {
   "display_name": "Python 3",
   "language": "python",
   "name": "python3"
  },
  "language_info": {
   "codemirror_mode": {
    "name": "ipython",
    "version": 3
   },
   "file_extension": ".py",
   "mimetype": "text/x-python",
   "name": "python",
   "nbconvert_exporter": "python",
   "pygments_lexer": "ipython3",
   "version": "3.11.9"
  }
 },
 "nbformat": 4,
 "nbformat_minor": 2
}
